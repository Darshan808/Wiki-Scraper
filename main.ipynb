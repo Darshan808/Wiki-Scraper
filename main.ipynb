{
 "cells": [
  {
   "cell_type": "code",
   "execution_count": 1,
   "id": "a77455bf",
   "metadata": {},
   "outputs": [],
   "source": [
    "from urllib.parse import quote\n",
    "import requests\n",
    "from bs4 import BeautifulSoup"
   ]
  },
  {
   "cell_type": "code",
   "execution_count": 2,
   "id": "262f99dd",
   "metadata": {},
   "outputs": [
    {
     "name": "stdout",
     "output_type": "stream",
     "text": [
      "Enter the search word:pulchowk campus\n"
     ]
    }
   ],
   "source": [
    "input_t= input('Enter the search word:')\n",
    "link ='https://en.wikipedia.org/wiki/'+ quote(input_t.strip().replace(' ','_'))"
   ]
  },
  {
   "cell_type": "code",
   "execution_count": 3,
   "id": "5114dd96",
   "metadata": {},
   "outputs": [],
   "source": [
    "res = requests.get(link)\n",
    "soup = BeautifulSoup(res.text,'html.parser')"
   ]
  },
  {
   "cell_type": "code",
   "execution_count": 4,
   "id": "79483817",
   "metadata": {},
   "outputs": [],
   "source": [
    "title = None\n",
    "if(soup.find('div',class_='noarticletext')):\n",
    "    text = r\"I'm sorry, I didn't understand that. Can you please provide more details or rephrase your search?\"\n",
    "else:\n",
    "    title = soup.find('h1',class_='firstHeading').text\n",
    "    for p in soup.find('div',class_='mw-content-ltr').find_all('p'):\n",
    "        if(p.text and p.text!='\\n'):\n",
    "            text=p.text\n",
    "            break;"
   ]
  },
  {
   "cell_type": "code",
   "execution_count": 5,
   "id": "330dbde1",
   "metadata": {},
   "outputs": [],
   "source": [
    "def cleanText(text)->str:\n",
    "    clean_text = text\n",
    "    obb = clean_text.find('[')\n",
    "    cbb = clean_text.find(']')\n",
    "    while obb!=-1:\n",
    "        clean_text = (clean_text[0:obb] + clean_text[cbb+1:])\n",
    "        obb = clean_text.find('[')\n",
    "        cbb = clean_text.find(']')\n",
    "    ob = clean_text.find('(')\n",
    "    cb = clean_text.find(')')\n",
    "    while ob!=-1:\n",
    "        clean_text = clean_text[0:ob]+clean_text[cb+2:]\n",
    "        ob = clean_text.find('(')\n",
    "        cb = clean_text.find(')') \n",
    "    return clean_text.replace('  ',' ')"
   ]
  },
  {
   "cell_type": "code",
   "execution_count": 6,
   "id": "ef68c25f",
   "metadata": {},
   "outputs": [
    {
     "name": "stdout",
     "output_type": "stream",
     "text": [
      "Pulchowk Campus\n",
      "\n",
      "Pulchowk Campus commonly known as Pulchowk Engineering Campus is one of the five constituent campuses of the Tribhuvan University, Institute of Engineering in Nepal. Other four constituent campuses are Thapathali Campus, Paschimanchal Campus, Purwanchal Campus, and Chitwan Engineering Campus. This is the central campus of Institute of Engineering situated in Lalitpur metropolitan city. The campus offers bachelor's degree, master's degree and doctoral degree programs.\n",
      "\n"
     ]
    }
   ],
   "source": [
    "if(title):\n",
    "    print(title,end='\\n\\n')\n",
    "    print(cleanText(text))\n",
    "else:\n",
    "    print(text)"
   ]
  }
 ],
 "metadata": {
  "kernelspec": {
   "display_name": "Python 3 (ipykernel)",
   "language": "python",
   "name": "python3"
  },
  "language_info": {
   "codemirror_mode": {
    "name": "ipython",
    "version": 3
   },
   "file_extension": ".py",
   "mimetype": "text/x-python",
   "name": "python",
   "nbconvert_exporter": "python",
   "pygments_lexer": "ipython3",
   "version": "3.10.13"
  }
 },
 "nbformat": 4,
 "nbformat_minor": 5
}
